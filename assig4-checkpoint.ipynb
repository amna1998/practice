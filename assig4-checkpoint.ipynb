{
 "cells": [
  {
   "cell_type": "code",
   "execution_count": 1,
   "metadata": {},
   "outputs": [
    {
     "name": "stdout",
     "output_type": "stream",
     "text": [
      "Amna\n",
      "Rashid\n",
      "21\n",
      "Karachi\n",
      "{'first_name': 'Amna', 'last_name': 'Rashid', 'age': 21, 'city': 'Karachi', 'qualification': 'bachelor in computer science'}\n",
      "{'first_name': 'Amna', 'last_name': 'Rashid', 'age': 21, 'city': 'Karachi', 'high academic level': 'Masters in computer science'}\n",
      "{'first_name': 'Amna', 'last_name': 'Rashid', 'age': 21, 'city': 'Karachi'}\n"
     ]
    }
   ],
   "source": [
    "person = {\n",
    "    'first_name': 'Amna',\n",
    "    'last_name': 'Rashid',\n",
    "    'age': 21,\n",
    "    'city': 'Karachi',\n",
    "    }\n",
    "\n",
    "print(person['first_name'])\n",
    "print(person['last_name'])\n",
    "print(person['age'])\n",
    "print(person['city'])\n",
    "person[\"qualification\"] = \"bachelor in computer science\"\n",
    "print(person)\n",
    "del person[\"qualification\"]\n",
    "person[\"high academic level\"] = \"Masters in computer science\"\n",
    "print(person)\n",
    "del person[\"high academic level\"]\n",
    "print(person)"
   ]
  },
  {
   "cell_type": "code",
   "execution_count": 2,
   "metadata": {},
   "outputs": [
    {
     "name": "stdout",
     "output_type": "stream",
     "text": [
      "\n",
      "Karachi is in Pakistan.\n",
      "  It has a population of about 15741000.\n",
      "It is considered as the City of Lights.\n",
      "\n",
      "Toronto is in Canada.\n",
      "  It has a population of about 6139000.\n",
      "It is considered as the most multicultural cities in the world.\n",
      "\n",
      "Paris is in France.\n",
      "  It has a population of about 2140526.\n",
      "It is considered as the City of Lights.\n"
     ]
    }
   ],
   "source": [
    "cities = {\n",
    "    'Karachi': {\n",
    "        'country': 'Pakistan',\n",
    "        'population': 15741000,\n",
    "        'fact': 'City of Lights',\n",
    "        },\n",
    "    'Toronto': {\n",
    "        'country': 'Canada',\n",
    "        'population': 6139000,\n",
    "        'fact': 'most multicultural cities in the world',\n",
    "        },\n",
    "    'Paris': {\n",
    "        'country': 'France',\n",
    "        'population': 2140526 ,\n",
    "        'fact': 'City of Lights',\n",
    "        }\n",
    "    }\n",
    "\n",
    "for city, city_info in cities.items():\n",
    "    country = city_info['country'].title()\n",
    "    population = city_info['population']\n",
    "    fact = city_info['fact']\n",
    "\n",
    "    print(\"\\n\" + city.title() + \" is in \" + country + \".\")\n",
    "    print(\"  It has a population of about \" + str(population) + \".\")\n",
    "    print(\"It is considered as the \" + fact + \".\")"
   ]
  },
  {
   "cell_type": "code",
   "execution_count": 3,
   "metadata": {},
   "outputs": [
    {
     "name": "stdout",
     "output_type": "stream",
     "text": [
      "\n",
      "How old are you? (Q to quit)5\n",
      "Your ticket is $10\n",
      "\n",
      "How old are you? (Q to quit)2\n",
      "Your ticket is free.\n",
      "\n",
      "How old are you? (Q to quit)15\n",
      "Your ticket is $15\n",
      "\n",
      "How old are you? (Q to quit)q\n",
      "\n",
      "Goodbye\n"
     ]
    }
   ],
   "source": [
    "while True:\n",
    "    age = input(\"\\nHow old are you? (Q to quit)\")\n",
    "    if age.lower() == \"q\":\n",
    "        break\n",
    "    try:\n",
    "        age = int(age)\n",
    "        if age <= 3:\n",
    "             print(\"Your ticket is free.\")\n",
    "        elif age > 3 and age <= 12:\n",
    "             print(\"Your ticket is $10\")\n",
    "        elif age > 12:\n",
    "             print(\"Your ticket is $15\")\n",
    "    except:\n",
    "        print(\"Invalid entry\")\n",
    "print(\"\\nGoodbye\")"
   ]
  },
  {
   "cell_type": "code",
   "execution_count": 4,
   "metadata": {},
   "outputs": [
    {
     "name": "stdout",
     "output_type": "stream",
     "text": [
      "One of my favorite books is Alice in Wonderland.\n"
     ]
    }
   ],
   "source": [
    "def favorite_book(title):\n",
    "    print(\"One of my favorite books is \" + title)\n",
    "\n",
    "favorite_book('Alice in Wonderland.')"
   ]
  },
  {
   "cell_type": "code",
   "execution_count": 5,
   "metadata": {},
   "outputs": [
    {
     "name": "stdout",
     "output_type": "stream",
     "text": [
      "enter number: \n",
      "4\n",
      "Your guess is too low\n",
      "20\n",
      "Your guess is too high\n",
      "14\n",
      "Your guess is too low\n",
      "You did not guess the number, The number was 18\n"
     ]
    }
   ],
   "source": [
    "import random\n",
    "number = random.randint(1, 30)\n",
    "print('enter number: ')\n",
    "number_of_guesses = 0\n",
    "\n",
    "while number_of_guesses < 3:\n",
    "    guess = int(input())\n",
    "    number_of_guesses += 1\n",
    "    if guess < number:\n",
    "        print('Your guess is too low')\n",
    "    if guess > number:\n",
    "        print('Your guess is too high')\n",
    "    if guess == number:\n",
    "        break\n",
    "if guess == number:\n",
    "    print('You guessed the number in ' + str(number_of_guesses) + ' tries!')\n",
    "else:\n",
    "    print('You did not guess the number, The number was ' + str(number))"
   ]
  }
 ],
 "metadata": {
  "kernelspec": {
   "display_name": "Python 3",
   "language": "python",
   "name": "python3"
  },
  "language_info": {
   "codemirror_mode": {
    "name": "ipython",
    "version": 3
   },
   "file_extension": ".py",
   "mimetype": "text/x-python",
   "name": "python",
   "nbconvert_exporter": "python",
   "pygments_lexer": "ipython3",
   "version": "3.7.1"
  }
 },
 "nbformat": 4,
 "nbformat_minor": 2
}
